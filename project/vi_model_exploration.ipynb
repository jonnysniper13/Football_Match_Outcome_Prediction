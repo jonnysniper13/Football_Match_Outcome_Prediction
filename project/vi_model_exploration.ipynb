{
 "cells": [
  {
   "cell_type": "markdown",
   "metadata": {},
   "source": [
    "# WIP\n",
    "## To Do\n",
    "- Experiment with different cross validation techniques from https://github.com/MaartenGr/validation/blob/master/Validation.ipynb\n",
    "- Test model using tests - e.g. https://towardsdatascience.com/validating-your-machine-learning-model-25b4c8643fb7\n",
    "- hyperparameter tuning -  https://neptune.ai/blog/hyperparameter-tuning-in-python-complete-guide\n",
    "- regularisation"
   ]
  },
  {
   "cell_type": "code",
   "execution_count": 10,
   "metadata": {},
   "outputs": [],
   "source": [
    "import numpy as np\n",
    "import pandas as pd\n",
    "import os\n",
    "from sklearn.preprocessing import StandardScaler\n",
    "from sklearn.metrics import accuracy_score\n",
    "from sklearn.model_selection import train_test_split\n",
    "from sklearn.neighbors import KNeighborsClassifier\n",
    "from sklearn.tree import DecisionTreeClassifier\n",
    "from sklearn.linear_model import LogisticRegression\n",
    "from sklearn.ensemble import AdaBoostClassifier, GradientBoostingClassifier, RandomForestClassifier\n",
    "from sklearn.pipeline import make_pipeline"
   ]
  },
  {
   "cell_type": "code",
   "execution_count": 15,
   "metadata": {},
   "outputs": [],
   "source": [
    "def load_data(bin=False):\n",
    "    project_dir = os.path.dirname(os.path.abspath(''))\n",
    "    df = pd.read_json(os.path.join(project_dir, 'model_prepped_dataset.json'))\n",
    "    X = df.loc[:, ~df.columns.isin(['Outcome', 'Outcome_Bin_H'])]\n",
    "    if bin:\n",
    "        y = df['Outcome_Bin_H']\n",
    "    else:\n",
    "        y = df['Outcome']\n",
    "    return X, y\n",
    "\n",
    "def prep_datasets(X, y):\n",
    "    X_train, X_test, y_train, y_test = train_test_split(X, y, test_size=0.3, random_state=42)\n",
    "    return X_train, X_test, y_train, y_test\n",
    "\n",
    "def compare_models(models, X_train, y_train, y_test):\n",
    "    for model in models:\n",
    "        model.fit(X_train, y_train)\n",
    "        y_pred = model.predict(X_test)\n",
    "        accu = accuracy_score(y_test, y_pred) * 100\n",
    "        print(\n",
    "            f\"{model.__class__.__name__}: \"\n",
    "            f\"Accuracy: {accu:.2f}\"\n",
    "            )\n",
    "    return"
   ]
  },
  {
   "cell_type": "code",
   "execution_count": 16,
   "metadata": {},
   "outputs": [
    {
     "name": "stdout",
     "output_type": "stream",
     "text": [
      "Pipeline: Accuracy: 61.20\n",
      "RandomForestClassifier: Accuracy: 59.29\n",
      "KNeighborsClassifier: Accuracy: 56.98\n",
      "DecisionTreeClassifier: Accuracy: 53.86\n",
      "AdaBoostClassifier: Accuracy: 60.66\n",
      "GradientBoostingClassifier: Accuracy: 61.29\n"
     ]
    }
   ],
   "source": [
    "np.random.seed(2)\n",
    "\n",
    "models = [\n",
    "    make_pipeline(StandardScaler(), LogisticRegression()),\n",
    "    RandomForestClassifier(max_depth=2),\n",
    "    KNeighborsClassifier(),\n",
    "    DecisionTreeClassifier(),\n",
    "    AdaBoostClassifier(),\n",
    "    GradientBoostingClassifier()\n",
    "    ]\n",
    "\n",
    "X, y = load_data(bin=True)\n",
    "X_train, X_test, y_train, y_test = prep_datasets(X, y)\n",
    "compare_models(models, X_train, y_train, y_test)"
   ]
  },
  {
   "cell_type": "code",
   "execution_count": null,
   "metadata": {},
   "outputs": [],
   "source": [
    "from matplotlib import pyplot as plt\n",
    "plt.xticks(rotation=90)\n",
    "plt.bar(list(X), model.feature_importances_)"
   ]
  }
 ],
 "metadata": {
  "interpreter": {
   "hash": "10b24f9ae05dd158b6b525ea86382ba6ae283167f29ba7cf9942217576627c33"
  },
  "kernelspec": {
   "display_name": "Python 3.9.5 ('base')",
   "language": "python",
   "name": "python3"
  },
  "language_info": {
   "codemirror_mode": {
    "name": "ipython",
    "version": 3
   },
   "file_extension": ".py",
   "mimetype": "text/x-python",
   "name": "python",
   "nbconvert_exporter": "python",
   "pygments_lexer": "ipython3",
   "version": "3.9.5"
  },
  "orig_nbformat": 4
 },
 "nbformat": 4,
 "nbformat_minor": 2
}
