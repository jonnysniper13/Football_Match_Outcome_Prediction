{
 "cells": [
  {
   "cell_type": "markdown",
   "metadata": {},
   "source": [
    "# WIP\n",
    "## To Do\n",
    "- Experiment with different cross validation techniques from https://github.com/MaartenGr/validation/blob/master/Validation.ipynb\n",
    "- Test model using tests - e.g. https://towardsdatascience.com/validating-your-machine-learning-model-25b4c8643fb7\n",
    "- hyperparameter tuning -  https://neptune.ai/blog/hyperparameter-tuning-in-python-complete-guide\n",
    "- regularisation"
   ]
  },
  {
   "cell_type": "code",
   "execution_count": 1,
   "metadata": {},
   "outputs": [],
   "source": [
    "import numpy as np\n",
    "import pandas as pd\n",
    "import os\n",
    "from sklearn.preprocessing import StandardScaler\n",
    "from sklearn.metrics import accuracy_score\n",
    "from sklearn.model_selection import train_test_split\n",
    "from sklearn.neighbors import KNeighborsClassifier\n",
    "from sklearn.tree import DecisionTreeClassifier\n",
    "from sklearn.ensemble import AdaBoostClassifier, GradientBoostingClassifier, RandomForestClassifier"
   ]
  },
  {
   "cell_type": "code",
   "execution_count": 10,
   "metadata": {},
   "outputs": [],
   "source": [
    "def load_data(bin=False):\n",
    "    project_dir = os.path.dirname(os.path.abspath(''))\n",
    "    df = pd.read_json(os.path.join(project_dir, 'model_prepped_dataset.json'))\n",
    "    X = df.loc[:, ~df.columns.isin(['Outcome', 'Outcome_Bin_H'])]\n",
    "    if bin:\n",
    "        y = df['Outcome_Bin_H']\n",
    "    else:\n",
    "        y = df['Outcome']\n",
    "    return X, y\n",
    "X, y = load_data(bin=True)\n",
    "\n",
    "def prep_datasets(X, y):\n",
    "    X_train, X_test, y_train, y_test = train_test_split(X, y, test_size=0.3, random_state=42)\n",
    "    ss = StandardScaler()\n",
    "    X_train = ss.fit_transform(X_train)\n",
    "    X_test = ss.transform(X_test)\n",
    "    return X_train, X_test, y_train, y_test\n",
    "\n",
    "X_train, X_test, y_train, y_test = prep_datasets(X, y)"
   ]
  },
  {
   "cell_type": "code",
   "execution_count": null,
   "metadata": {},
   "outputs": [],
   "source": [
    "sklearn.ensemble.HistGradientBoostingClassifier\n",
    "sklearn.ensemble.VotingClassifier\n",
    "sklearn.ensemble.StackingClassifier\n",
    "    KNeighborsClassifier(),\n",
    "    DecisionTreeClassifier(),\n",
    "    AdaBoostClassifier(),\n",
    "    GradientBoostingClassifier(),\n",
    "    RandomForestClassifier()"
   ]
  },
  {
   "cell_type": "code",
   "execution_count": 11,
   "metadata": {},
   "outputs": [
    {
     "name": "stdout",
     "output_type": "stream",
     "text": [
      "RandomForestClassifier: Accuracy: 59.91\n"
     ]
    }
   ],
   "source": [
    "np.random.seed(2)\n",
    "\n",
    "models = [RandomForestClassifier()\n",
    "]\n",
    "\n",
    "for model in models:\n",
    "    model.fit(X_train, y_train)\n",
    "\n",
    "    y_pred = model.predict(X_test)\n",
    "    accu = accuracy_score(y_test, y_pred) * 100\n",
    "\n",
    "    print(\n",
    "        f\"{model.__class__.__name__}: \"\n",
    "        f\"Accuracy: {accu:.2f}\"\n",
    "    )"
   ]
  },
  {
   "cell_type": "code",
   "execution_count": 12,
   "metadata": {},
   "outputs": [
    {
     "data": {
      "text/plain": [
       "array([0.05841513, 0.09390258, 0.08887465, 0.09307559, 0.03405145,\n",
       "       0.02132811, 0.02396516, 0.02910338, 0.01598044, 0.04740941,\n",
       "       0.04507409, 0.04524827, 0.04585539, 0.06715538, 0.06589328,\n",
       "       0.06718503, 0.06499247, 0.09249018])"
      ]
     },
     "execution_count": 12,
     "metadata": {},
     "output_type": "execute_result"
    }
   ],
   "source": [
    "model.feature_importances_"
   ]
  }
 ],
 "metadata": {
  "interpreter": {
   "hash": "10b24f9ae05dd158b6b525ea86382ba6ae283167f29ba7cf9942217576627c33"
  },
  "kernelspec": {
   "display_name": "Python 3.9.5 ('base')",
   "language": "python",
   "name": "python3"
  },
  "language_info": {
   "codemirror_mode": {
    "name": "ipython",
    "version": 3
   },
   "file_extension": ".py",
   "mimetype": "text/x-python",
   "name": "python",
   "nbconvert_exporter": "python",
   "pygments_lexer": "ipython3",
   "version": "3.9.5"
  },
  "orig_nbformat": 4
 },
 "nbformat": 4,
 "nbformat_minor": 2
}
