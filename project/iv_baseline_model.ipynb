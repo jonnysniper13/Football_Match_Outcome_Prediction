{
 "cells": [
  {
   "cell_type": "markdown",
   "metadata": {},
   "source": [
    "### Fit Baseline Model"
   ]
  },
  {
   "cell_type": "code",
   "execution_count": 25,
   "metadata": {},
   "outputs": [],
   "source": [
    "from sklearn.model_selection import train_test_split\n",
    "from sklearn.metrics import mean_squared_error, r2_score, accuracy_score\n",
    "from sklearn.preprocessing import StandardScaler\n",
    "from sklearn.linear_model import LinearRegression, LogisticRegression\n",
    "import pandas as pd\n",
    "import os\n",
    "import dtale\n",
    "import numpy as np"
   ]
  },
  {
   "cell_type": "markdown",
   "metadata": {},
   "source": [
    "Load in dataset"
   ]
  },
  {
   "cell_type": "code",
   "execution_count": 26,
   "metadata": {},
   "outputs": [],
   "source": [
    "project_dir = os.path.dirname(os.path.abspath(''))\n",
    "df = pd.read_json(os.path.join(project_dir, 'model_prepped_dataset.json'))\n",
    "dtale.show(df).open_browser()"
   ]
  },
  {
   "cell_type": "markdown",
   "metadata": {},
   "source": [
    "Assign dataset to X matrix and y vector and apply any necessary transformations."
   ]
  },
  {
   "cell_type": "code",
   "execution_count": 33,
   "metadata": {},
   "outputs": [
    {
     "data": {
      "text/html": [
       "<div>\n",
       "<style scoped>\n",
       "    .dataframe tbody tr th:only-of-type {\n",
       "        vertical-align: middle;\n",
       "    }\n",
       "\n",
       "    .dataframe tbody tr th {\n",
       "        vertical-align: top;\n",
       "    }\n",
       "\n",
       "    .dataframe thead th {\n",
       "        text-align: right;\n",
       "    }\n",
       "</style>\n",
       "<table border=\"1\" class=\"dataframe\">\n",
       "  <thead>\n",
       "    <tr style=\"text-align: right;\">\n",
       "      <th></th>\n",
       "      <th>Season</th>\n",
       "      <th>Capacity</th>\n",
       "      <th>Elo_home</th>\n",
       "      <th>Elo_away</th>\n",
       "      <th>Day</th>\n",
       "      <th>Home_Team_Streak</th>\n",
       "      <th>Away_Team_Streak</th>\n",
       "      <th>Home_Team_Home_Streak</th>\n",
       "      <th>Away_Team_Away_Streak</th>\n",
       "      <th>Home_Team_Form</th>\n",
       "      <th>Away_Team_Form</th>\n",
       "      <th>Home_Team_Home_Form</th>\n",
       "      <th>Away_Team_Away_Form</th>\n",
       "      <th>Home_Team_Goals</th>\n",
       "      <th>Away_Team_Goals</th>\n",
       "      <th>Home_Team_Home_Goals</th>\n",
       "      <th>Away_Team_Away_Goals</th>\n",
       "      <th>Match_Relevance</th>\n",
       "    </tr>\n",
       "  </thead>\n",
       "  <tbody>\n",
       "    <tr>\n",
       "      <th>105459</th>\n",
       "      <td>2021</td>\n",
       "      <td>41841</td>\n",
       "      <td>90</td>\n",
       "      <td>91</td>\n",
       "      <td>6</td>\n",
       "      <td>0</td>\n",
       "      <td>1</td>\n",
       "      <td>2</td>\n",
       "      <td>0</td>\n",
       "      <td>4</td>\n",
       "      <td>2</td>\n",
       "      <td>1</td>\n",
       "      <td>2</td>\n",
       "      <td>1.1</td>\n",
       "      <td>2.2</td>\n",
       "      <td>1.9</td>\n",
       "      <td>1.8</td>\n",
       "      <td>0.000006</td>\n",
       "    </tr>\n",
       "    <tr>\n",
       "      <th>105460</th>\n",
       "      <td>2021</td>\n",
       "      <td>62062</td>\n",
       "      <td>89</td>\n",
       "      <td>73</td>\n",
       "      <td>6</td>\n",
       "      <td>0</td>\n",
       "      <td>0</td>\n",
       "      <td>1</td>\n",
       "      <td>1</td>\n",
       "      <td>-3</td>\n",
       "      <td>0</td>\n",
       "      <td>0</td>\n",
       "      <td>-1</td>\n",
       "      <td>1.2</td>\n",
       "      <td>0.9</td>\n",
       "      <td>1.6</td>\n",
       "      <td>0.5</td>\n",
       "      <td>0.000006</td>\n",
       "    </tr>\n",
       "    <tr>\n",
       "      <th>105461</th>\n",
       "      <td>2021</td>\n",
       "      <td>32500</td>\n",
       "      <td>84</td>\n",
       "      <td>89</td>\n",
       "      <td>6</td>\n",
       "      <td>2</td>\n",
       "      <td>0</td>\n",
       "      <td>1</td>\n",
       "      <td>0</td>\n",
       "      <td>2</td>\n",
       "      <td>-2</td>\n",
       "      <td>2</td>\n",
       "      <td>1</td>\n",
       "      <td>1.6</td>\n",
       "      <td>1.6</td>\n",
       "      <td>1.5</td>\n",
       "      <td>1.1</td>\n",
       "      <td>0.000006</td>\n",
       "    </tr>\n",
       "    <tr>\n",
       "      <th>105462</th>\n",
       "      <td>2021</td>\n",
       "      <td>18482</td>\n",
       "      <td>60</td>\n",
       "      <td>72</td>\n",
       "      <td>6</td>\n",
       "      <td>3</td>\n",
       "      <td>0</td>\n",
       "      <td>2</td>\n",
       "      <td>1</td>\n",
       "      <td>1</td>\n",
       "      <td>-1</td>\n",
       "      <td>-1</td>\n",
       "      <td>-1</td>\n",
       "      <td>1.2</td>\n",
       "      <td>0.8</td>\n",
       "      <td>0.8</td>\n",
       "      <td>1.2</td>\n",
       "      <td>0.000006</td>\n",
       "    </tr>\n",
       "    <tr>\n",
       "      <th>105463</th>\n",
       "      <td>2021</td>\n",
       "      <td>21628</td>\n",
       "      <td>70</td>\n",
       "      <td>74</td>\n",
       "      <td>6</td>\n",
       "      <td>0</td>\n",
       "      <td>3</td>\n",
       "      <td>0</td>\n",
       "      <td>1</td>\n",
       "      <td>0</td>\n",
       "      <td>2</td>\n",
       "      <td>2</td>\n",
       "      <td>-1</td>\n",
       "      <td>1.1</td>\n",
       "      <td>1.6</td>\n",
       "      <td>1.1</td>\n",
       "      <td>1.4</td>\n",
       "      <td>0.000006</td>\n",
       "    </tr>\n",
       "  </tbody>\n",
       "</table>\n",
       "</div>"
      ],
      "text/plain": [
       "        Season  Capacity  Elo_home  Elo_away  Day  Home_Team_Streak  \\\n",
       "105459    2021     41841        90        91    6                 0   \n",
       "105460    2021     62062        89        73    6                 0   \n",
       "105461    2021     32500        84        89    6                 2   \n",
       "105462    2021     18482        60        72    6                 3   \n",
       "105463    2021     21628        70        74    6                 0   \n",
       "\n",
       "        Away_Team_Streak  Home_Team_Home_Streak  Away_Team_Away_Streak  \\\n",
       "105459                 1                      2                      0   \n",
       "105460                 0                      1                      1   \n",
       "105461                 0                      1                      0   \n",
       "105462                 0                      2                      1   \n",
       "105463                 3                      0                      1   \n",
       "\n",
       "        Home_Team_Form  Away_Team_Form  Home_Team_Home_Form  \\\n",
       "105459               4               2                    1   \n",
       "105460              -3               0                    0   \n",
       "105461               2              -2                    2   \n",
       "105462               1              -1                   -1   \n",
       "105463               0               2                    2   \n",
       "\n",
       "        Away_Team_Away_Form  Home_Team_Goals  Away_Team_Goals  \\\n",
       "105459                    2              1.1              2.2   \n",
       "105460                   -1              1.2              0.9   \n",
       "105461                    1              1.6              1.6   \n",
       "105462                   -1              1.2              0.8   \n",
       "105463                   -1              1.1              1.6   \n",
       "\n",
       "        Home_Team_Home_Goals  Away_Team_Away_Goals  Match_Relevance  \n",
       "105459                   1.9                   1.8         0.000006  \n",
       "105460                   1.6                   0.5         0.000006  \n",
       "105461                   1.5                   1.1         0.000006  \n",
       "105462                   0.8                   1.2         0.000006  \n",
       "105463                   1.1                   1.4         0.000006  "
      ]
     },
     "execution_count": 33,
     "metadata": {},
     "output_type": "execute_result"
    }
   ],
   "source": [
    "X = df.loc[:, ~df.columns.isin(['Outcome', 'Outcome_Bin_H'])]\n",
    "y = df['Outcome']\n",
    "X.tail()"
   ]
  },
  {
   "cell_type": "markdown",
   "metadata": {},
   "source": [
    "Split into training set and test set."
   ]
  },
  {
   "cell_type": "code",
   "execution_count": 34,
   "metadata": {},
   "outputs": [
    {
     "name": "stdout",
     "output_type": "stream",
     "text": [
      "83509\n",
      "14738\n",
      "98247\n"
     ]
    }
   ],
   "source": [
    "X_train, X_test, y_train, y_test = train_test_split(X, y, test_size=0.15, random_state=42)\n",
    "print(len(X_train))\n",
    "print(len(X_test))\n",
    "print(len(X))"
   ]
  },
  {
   "cell_type": "markdown",
   "metadata": {},
   "source": [
    "Scale X by standardising it. Use the mean and standard deviation of the training set to standardise the test set."
   ]
  },
  {
   "cell_type": "code",
   "execution_count": 35,
   "metadata": {},
   "outputs": [],
   "source": [
    "ss = StandardScaler()\n",
    "X_train = ss.fit_transform(X_train)\n",
    "X_test = ss.transform(X_test)"
   ]
  },
  {
   "cell_type": "markdown",
   "metadata": {},
   "source": [
    "#### Option 1) Logistic Regression"
   ]
  },
  {
   "cell_type": "markdown",
   "metadata": {},
   "source": [
    "Train model."
   ]
  },
  {
   "cell_type": "code",
   "execution_count": 36,
   "metadata": {},
   "outputs": [
    {
     "data": {
      "text/plain": [
       "LogisticRegression()"
      ]
     },
     "execution_count": 36,
     "metadata": {},
     "output_type": "execute_result"
    }
   ],
   "source": [
    "lgr = LogisticRegression()\n",
    "lgr.fit(X_train, y_train)"
   ]
  },
  {
   "cell_type": "markdown",
   "metadata": {},
   "source": [
    "Test the accuracy of the model by checking against the test set. This consists of calculating the MSE and accuracy of the predicted classification."
   ]
  },
  {
   "cell_type": "code",
   "execution_count": 37,
   "metadata": {},
   "outputs": [
    {
     "name": "stdout",
     "output_type": "stream",
     "text": [
      "Logistic Regression Model\n",
      "Accuracy: 49.83%.\n",
      "MSE: 1.16\n"
     ]
    }
   ],
   "source": [
    "y_pred_log = lgr.predict(X_test)\n",
    "accu_log = accuracy_score(y_test, y_pred_log) * 100\n",
    "# R2 score is not a good measure for classification.\n",
    "print(f'Logistic Regression Model\\nAccuracy: {accu_log:.2f}%.')"
   ]
  },
  {
   "cell_type": "markdown",
   "metadata": {},
   "source": [
    "#### Option 2) Linear Regression"
   ]
  },
  {
   "cell_type": "markdown",
   "metadata": {},
   "source": [
    "Train model."
   ]
  },
  {
   "cell_type": "code",
   "execution_count": 38,
   "metadata": {},
   "outputs": [
    {
     "data": {
      "text/plain": [
       "LinearRegression()"
      ]
     },
     "execution_count": 38,
     "metadata": {},
     "output_type": "execute_result"
    }
   ],
   "source": [
    "lr = LinearRegression()\n",
    "lr.fit(X_train, y_train)"
   ]
  },
  {
   "cell_type": "markdown",
   "metadata": {},
   "source": [
    "Test the accuracy of the model by checking against the test set. This consists of calculating the MSE and accuracy of the predicted outcome."
   ]
  },
  {
   "cell_type": "code",
   "execution_count": 39,
   "metadata": {},
   "outputs": [
    {
     "name": "stdout",
     "output_type": "stream",
     "text": [
      "Linear Regression Model\n",
      "Accuracy: 34.46%.\n",
      "MSE: 0.69\n",
      "R2 score: -0.03\n"
     ]
    }
   ],
   "source": [
    "y_pred_lin = np.rint(lr.predict(X_test))\n",
    "mse_lin = mean_squared_error(y_test, y_pred_lin)\n",
    "accu_lin = accuracy_score(y_test, y_pred_lin) * 100\n",
    "r2_lin = r2_score(y_test, y_pred_lin)\n",
    "print(f'Linear Regression Model\\nAccuracy: {accu_lin:.2f}%.\\nMSE: {mse_lin:.2f}\\nR2 score: {r2_lin:.2f}')"
   ]
  },
  {
   "cell_type": "markdown",
   "metadata": {},
   "source": [
    "#### Option 3) Binary Logistic Regression"
   ]
  },
  {
   "cell_type": "markdown",
   "metadata": {},
   "source": [
    "A final baseline model is trialled using the binary outcome (i.e. predicting home wins only)."
   ]
  },
  {
   "cell_type": "code",
   "execution_count": 40,
   "metadata": {},
   "outputs": [
    {
     "name": "stdout",
     "output_type": "stream",
     "text": [
      "Logistic Regression Model\n",
      "Accuracy: 61.09%.\n",
      "MSE: 0.39\n"
     ]
    }
   ],
   "source": [
    "X = df.loc[:, ~df.columns.isin(['Outcome', 'Outcome_Bin_H'])]\n",
    "y = df['Outcome_Bin_H']\n",
    "X_train, X_test, y_train, y_test = train_test_split(X, y, test_size=0.15, random_state=42)\n",
    "ss = StandardScaler()\n",
    "X_train = ss.fit_transform(X_train)\n",
    "X_test = ss.transform(X_test)\n",
    "lgr = LogisticRegression()\n",
    "lgr.fit(X_train, y_train)\n",
    "y_pred_log = lgr.predict(X_test)\n",
    "accu_log = accuracy_score(y_test, y_pred_log) * 100\n",
    "print(f'Logistic Regression Model\\nAccuracy: {accu_log:.2f}%.')"
   ]
  },
  {
   "cell_type": "markdown",
   "metadata": {},
   "source": [
    "#### Conclusion:\n",
    "The multiclass logistic regression model has a 49.83% accuracy which is a 50% more than random choice (33%).\n",
    "\n",
    "The linear regression model is not considered an appropiate fit for this problem as it is post processed to be a classification problem.\n",
    "\n",
    "The binary logistic regression model has a 61.09% accuracy which is 20% more than random choice.\n",
    "\n",
    "Both multiclass and binary clasisfication approaches will be developed going forward so that the best model for each can be compared."
   ]
  }
 ],
 "metadata": {
  "interpreter": {
   "hash": "10b24f9ae05dd158b6b525ea86382ba6ae283167f29ba7cf9942217576627c33"
  },
  "kernelspec": {
   "display_name": "Python 3.9.5 ('base')",
   "language": "python",
   "name": "python3"
  },
  "language_info": {
   "codemirror_mode": {
    "name": "ipython",
    "version": 3
   },
   "file_extension": ".py",
   "mimetype": "text/x-python",
   "name": "python",
   "nbconvert_exporter": "python",
   "pygments_lexer": "ipython3",
   "version": "3.9.5"
  },
  "orig_nbformat": 4
 },
 "nbformat": 4,
 "nbformat_minor": 2
}
